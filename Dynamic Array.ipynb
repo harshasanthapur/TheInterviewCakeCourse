{
 "cells": [
  {
   "cell_type": "markdown",
   "metadata": {},
   "source": [
    "## Dynamic Array\n"
   ]
  },
  {
   "cell_type": "markdown",
   "metadata": {},
   "source": [
    "Other names:\n",
    "array list, growable array, resizable array, mutable array"
   ]
  },
  {
   "cell_type": "markdown",
   "metadata": {},
   "source": [
    "A dynamic array is an array with a big improvement: automatic resizing.\n",
    "\n",
    "One limitation of arrays is that they're fixed size, meaning you need to specify the number of elements your array will hold ahead of time.\n",
    "\n",
    "A dynamic array expands as you add more elements. So you don't need to determine the size ahead of time."
   ]
  },
  {
   "cell_type": "markdown",
   "metadata": {},
   "source": [
    "Average  Case  Worst Case\n",
    "\n",
    "space\t O(n)\tO(n)\n",
    "lookup\t O(1)\tO(1)\n",
    "append\t O(1)\tO(n)\n",
    "insert\t O(n)\tO(n)\n",
    "delete\t O(n)\tO(n)"
   ]
  },
  {
   "cell_type": "markdown",
   "metadata": {},
   "source": [
    "Strengths:\n",
    "Fast lookups. Just like arrays, retrieving the element at a given index takes O(1) time.\n",
    "Variable size. You can add as many items as you want, and the dynamic array will expand to hold them.\n",
    "Cache-friendly. Just like arrays, dynamic arrays place items right next to each other in memory, making efficient use of caches.\n",
    "\n",
    "Weaknesses:\n",
    "Slow worst-case appends. Usually, adding a new element at the end of the dynamic array takes O(1) time. But if the dynamic array doesn't have any room for the new item, it'll need to expand, which takes O(n) time.\n",
    "Costly inserts and deletes. Just like arrays, elements are stored adjacent to each other. So adding or removing an item in the middle of the array requires \"scooting over\" other elements, which takes O(n) time."
   ]
  },
  {
   "cell_type": "markdown",
   "metadata": {},
   "source": [
    "In Python, dynamic arrays are called lists."
   ]
  },
  {
   "cell_type": "markdown",
   "metadata": {},
   "source": [
    "Here's what they look like:"
   ]
  },
  {
   "cell_type": "code",
   "execution_count": null,
   "metadata": {},
   "outputs": [],
   "source": [
    "gas_prices = []\n",
    "\n",
    "gas_prices.append(346)\n",
    "gas_prices.append(345)\n",
    "gas_prices.append(347)"
   ]
  },
  {
   "cell_type": "markdown",
   "metadata": {},
   "source": [
    "## Size vs. Capacity"
   ]
  },
  {
   "cell_type": "markdown",
   "metadata": {},
   "source": [
    "When you allocate a dynamic array, your dynamic array implementation makes an underlying fixed-size array. The starting size depends on the implementation—let's say our implementation uses 10 indices. Now say we append 4 items to our dynamic array. At this point, our dynamic array has a length of 4. But the underlying array has a length of 10.\n",
    "\n",
    "We'd say this dynamic array's size is 4 and its capacity is 10. The dynamic array stores an end_index to keep track of where the dynamic array ends and the extra capacity begins."
   ]
  },
  {
   "cell_type": "markdown",
   "metadata": {},
   "source": [
    "## Doubling Appends"
   ]
  },
  {
   "cell_type": "markdown",
   "metadata": {},
   "source": [
    "What if we try to append an item but our array's capacity is already full?\n",
    "\n",
    "To make room, dynamic arrays automatically make a new, bigger underlying array. Usually twice as big.\n",
    "\n",
    "Why not just extend the existing array? Because that memory might already be taken by another program.\n",
    "\n",
    "Each item has to be individually copied into the new array."
   ]
  },
  {
   "cell_type": "markdown",
   "metadata": {},
   "source": [
    "Copying each item over costs O(n) time! So whenever appending an item to our dynamic array forces us to make a new double-size underlying array, that append takes O(n) time.\n",
    "\n",
    "That's the worst case. But in the best case (and the average case), appends are just O(1)time."
   ]
  },
  {
   "cell_type": "markdown",
   "metadata": {},
   "source": [
    "Amortized cost of appending\n",
    "\n",
    "The time cost of each special O(n) \"doubling append\" doubles each time.\n",
    "At the same time, the number of O(1) appends you get until the next doubling append also doubles.\n",
    "These two things sort of \"cancel out,\" and we can say each append has an average cost or amortized cost of O(1). ↴\n",
    "\n",
    "Given this, in industry we usually wave our hands and say dynamic arrays have a time cost of O(1) for appends, even though strictly speaking that's only true for the average case or the amortized cost."
   ]
  }
 ],
 "metadata": {
  "kernelspec": {
   "display_name": "Python 3",
   "language": "python",
   "name": "python3"
  },
  "language_info": {
   "codemirror_mode": {
    "name": "ipython",
    "version": 3
   },
   "file_extension": ".py",
   "mimetype": "text/x-python",
   "name": "python",
   "nbconvert_exporter": "python",
   "pygments_lexer": "ipython3",
   "version": "3.6.9"
  }
 },
 "nbformat": 4,
 "nbformat_minor": 2
}
